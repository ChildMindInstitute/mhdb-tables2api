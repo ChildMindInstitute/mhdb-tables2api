{
 "cells": [
  {
   "cell_type": "code",
   "execution_count": 6,
   "metadata": {},
   "outputs": [],
   "source": [
    "import os, sys\n",
    "import pandas as pd\n",
    "import numpy as np\n",
    "import re\n",
    "\n",
    "pd.options.display.max_rows = 999\n",
    "pd.options.display.max_columns = 999\n",
    "sys.path.append('../src')\n",
    "\n",
    "from fixtures import df_to_json_list, write_fixture_to_json"
   ]
  },
  {
   "cell_type": "code",
   "execution_count": 7,
   "metadata": {},
   "outputs": [],
   "source": [
    "def load_sheet_from_xl(fname, sheet_name):\n",
    "    \"\"\"\n",
    "    load sheet from xl file\n",
    "    \"\"\"\n",
    "    fldr_path = '..','data','raw'\n",
    "    fpath = os.path.join(*fldr_path, fname)\n",
    "    xl = pd.ExcelFile(fpath)\n",
    "    df = xl.parse(sheet_name)\n",
    "    \n",
    "    return df"
   ]
  },
  {
   "cell_type": "code",
   "execution_count": 8,
   "metadata": {},
   "outputs": [],
   "source": [
    "def clean_df_resources_languages(df):\n",
    "    \n",
    "    cols_to_keep = ['index', 'language','index_language', 'equivalentClasses',]   # language hyperlinks example url https://bioportal.bioontology.org/ontologies/SNOMEDCT/?p=classes&conceptid=http%3A%2F%2Fpurl.bioontology.org%2Fontology%2FSNOMEDCT%2F297301005\n",
    "    df = df.loc[: ,cols_to_keep]\n",
    "\n",
    "    #handle NaNs\n",
    "    df['index_language'] = df['index_language'].astype(pd.Int64Dtype()) # allows column to have NaNs pd.Int64Dtype()\n",
    "    df['equivalentClasses'] = df['equivalentClasses'].astype(str)\n",
    "\n",
    "    df = df.set_index('index')\n",
    "    \n",
    "    #rename cols # to avoid a naming clashes in django.\n",
    "    rename_dict = {'language':'name', \n",
    "                   'index_language':'parent_language'}\n",
    "    \n",
    "    df = df.rename(columns=rename_dict)\n",
    "\n",
    "    return df"
   ]
  },
  {
   "cell_type": "code",
   "execution_count": 9,
   "metadata": {},
   "outputs": [],
   "source": [
    "def clean_df_disorders_disorder_categories(df):\n",
    "    \n",
    "    cols_to_keep = ['index', 'disorder_category']   # language hyperlinks example url https://bioportal.bioontology.org/ontologies/SNOMEDCT/?p=classes&conceptid=http%3A%2F%2Fpurl.bioontology.org%2Fontology%2FSNOMEDCT%2F297301005\n",
    "    df = df.loc[: ,cols_to_keep]\n",
    "\n",
    "    #handle NaNs\n",
    "    df = df.dropna()\n",
    "    df = df.set_index('index')\n",
    "    \n",
    "    #rename cols # to avoid a naming clashes in django.\n",
    "    rename_dict = {'disorder_category':'name'}\n",
    "    df = df.rename(columns=rename_dict)\n",
    "\n",
    "    return df\n",
    "    "
   ]
  },
  {
   "cell_type": "code",
   "execution_count": 10,
   "metadata": {},
   "outputs": [],
   "source": [
    "def cleaning_func_factory(fname, sheet_name):\n",
    "    \"\"\"\n",
    "    return the appropriate df cleaning function by looking up a dictionary\n",
    "    the functions should be saved in the dictionary in the format FileName__SheetName\n",
    "    \"\"\"\n",
    "    file_sheet = fname.split('.')[0] + \"__\" + sheet_name\n",
    "    \n",
    "    cleaning_funcs = {}\n",
    "    cleaning_funcs[\"resources__languages\"] = clean_df_resources_languages\n",
    "    cleaning_funcs[\"disorders__disorder_categories\"] = clean_df_disorders_disorder_categories\n",
    "    \n",
    "    return cleaning_funcs[file_sheet]"
   ]
  },
  {
   "cell_type": "code",
   "execution_count": 13,
   "metadata": {},
   "outputs": [],
   "source": [
    "def process_one_sheet(fname, sheet_name, app_name, model_name):\n",
    "    \n",
    "    df = load_sheet_from_xl(fname, sheet_name)\n",
    "    # look up the cleaning function based on file and sheet name \n",
    "    df = cleaning_func_factory(fname, sheet_name)(df)\n",
    "\n",
    "    fname, fixture_lst = df_to_json_list(df,\n",
    "                                        app_name,\n",
    "                                        model_name,\n",
    "                                        file_name_modifier='',\n",
    "                                        use_df_index_as_pk=True,\n",
    "                                        create_datetimefield_name=None,\n",
    "                                        created_by_field_name=None)\n",
    "\n",
    "    write_fixture_to_json(fixture_lst, fname, output_folder='default')\n",
    "    \n",
    "    return"
   ]
  },
  {
   "cell_type": "code",
   "execution_count": 12,
   "metadata": {},
   "outputs": [],
   "source": [
    "# load sheet from xl file\n",
    "sheet_name = 'languages'\n",
    "fname = 'resources.xlsx'\n",
    "# variables for Django schema\n",
    "model_name = 'Language'\n",
    "app_name = 'resources'\n",
    "\n",
    "inputs_lst = [\n",
    "    {\n",
    "    'sheet_name' : 'languages',\n",
    "    'fname' : 'resources.xlsx',\n",
    "    'model_name' : 'Language',\n",
    "    'app_name' : 'resources',\n",
    "    },\n",
    "    {\n",
    "    'sheet_name' : 'disorder_categories',\n",
    "    'fname' : 'disorders.xlsx',\n",
    "    'model_name' : 'DisorderCategory',\n",
    "    'app_name' : 'disorders',\n",
    "    },\n",
    "    ]"
   ]
  },
  {
   "cell_type": "code",
   "execution_count": 15,
   "metadata": {},
   "outputs": [
    {
     "name": "stdout",
     "output_type": "stream",
     "text": [
      "did not save, file already exists at: ../data/processed/fixtures/Language.json\n"
     ]
    }
   ],
   "source": [
    "for d in inputs_lst:\n",
    "    try: \n",
    "        process_one_sheet(d['fname'], d['sheet_name'], d['app_name'], d['model_name'])\n",
    "    except FileExistsError as e:\n",
    "        print(e)"
   ]
  },
  {
   "cell_type": "code",
   "execution_count": null,
   "metadata": {},
   "outputs": [],
   "source": []
  }
 ],
 "metadata": {
  "kernelspec": {
   "display_name": "Python 3",
   "language": "python",
   "name": "python3"
  },
  "language_info": {
   "codemirror_mode": {
    "name": "ipython",
    "version": 3
   },
   "file_extension": ".py",
   "mimetype": "text/x-python",
   "name": "python",
   "nbconvert_exporter": "python",
   "pygments_lexer": "ipython3",
   "version": "3.8.3"
  }
 },
 "nbformat": 4,
 "nbformat_minor": 4
}
